{
  "nbformat": 4,
  "nbformat_minor": 0,
  "metadata": {
    "kernelspec": {
      "display_name": "Python 3",
      "language": "python",
      "name": "python3"
    },
    "language_info": {
      "codemirror_mode": {
        "name": "ipython",
        "version": 3
      },
      "file_extension": ".py",
      "mimetype": "text/x-python",
      "name": "python",
      "nbconvert_exporter": "python",
      "pygments_lexer": "ipython3",
      "version": "3.8.3"
    },
    "colab": {
      "name": "2020ml02exercise-answer-18B17246.ipynb",
      "provenance": [],
      "collapsed_sections": []
    }
  },
  "cells": [
    {
      "cell_type": "markdown",
      "metadata": {
        "id": "Tm57MuilRXRp"
      },
      "source": [
        "# 演習問題"
      ]
    },
    {
      "cell_type": "code",
      "metadata": {
        "id": "lXLWkEzAR09t",
        "colab": {
          "base_uri": "https://localhost:8080/"
        },
        "outputId": "8bcf91c4-359d-4d7c-b6f6-3d2428338810"
      },
      "source": [
        "!pip install japanize-matplotlib"
      ],
      "execution_count": 1,
      "outputs": [
        {
          "output_type": "stream",
          "text": [
            "Collecting japanize-matplotlib\n",
            "\u001b[?25l  Downloading https://files.pythonhosted.org/packages/aa/85/08a4b7fe8987582d99d9bb7ad0ff1ec75439359a7f9690a0dbf2dbf98b15/japanize-matplotlib-1.1.3.tar.gz (4.1MB)\n",
            "\u001b[K     |████████████████████████████████| 4.1MB 5.7MB/s \n",
            "\u001b[?25hRequirement already satisfied: matplotlib in /usr/local/lib/python3.6/dist-packages (from japanize-matplotlib) (3.2.2)\n",
            "Requirement already satisfied: python-dateutil>=2.1 in /usr/local/lib/python3.6/dist-packages (from matplotlib->japanize-matplotlib) (2.8.1)\n",
            "Requirement already satisfied: numpy>=1.11 in /usr/local/lib/python3.6/dist-packages (from matplotlib->japanize-matplotlib) (1.18.5)\n",
            "Requirement already satisfied: pyparsing!=2.0.4,!=2.1.2,!=2.1.6,>=2.0.1 in /usr/local/lib/python3.6/dist-packages (from matplotlib->japanize-matplotlib) (2.4.7)\n",
            "Requirement already satisfied: cycler>=0.10 in /usr/local/lib/python3.6/dist-packages (from matplotlib->japanize-matplotlib) (0.10.0)\n",
            "Requirement already satisfied: kiwisolver>=1.0.1 in /usr/local/lib/python3.6/dist-packages (from matplotlib->japanize-matplotlib) (1.3.1)\n",
            "Requirement already satisfied: six>=1.5 in /usr/local/lib/python3.6/dist-packages (from python-dateutil>=2.1->matplotlib->japanize-matplotlib) (1.15.0)\n",
            "Building wheels for collected packages: japanize-matplotlib\n",
            "  Building wheel for japanize-matplotlib (setup.py) ... \u001b[?25l\u001b[?25hdone\n",
            "  Created wheel for japanize-matplotlib: filename=japanize_matplotlib-1.1.3-cp36-none-any.whl size=4120275 sha256=52c383d60e90e38150f937bb61b3e9937698c4bba8feffa00a894a2ed3bf2801\n",
            "  Stored in directory: /root/.cache/pip/wheels/b7/d9/a2/f907d50b32a2d2008ce5d691d30fb6569c2c93eefcfde55202\n",
            "Successfully built japanize-matplotlib\n",
            "Installing collected packages: japanize-matplotlib\n",
            "Successfully installed japanize-matplotlib-1.1.3\n"
          ],
          "name": "stdout"
        }
      ]
    },
    {
      "cell_type": "code",
      "metadata": {
        "id": "cj0KE9zcRXRq"
      },
      "source": [
        "import matplotlib\n",
        "import matplotlib.pyplot as plt\n",
        "import japanize_matplotlib\n",
        "import numpy as np"
      ],
      "execution_count": 2,
      "outputs": []
    },
    {
      "cell_type": "markdown",
      "metadata": {
        "id": "mJqIl8mNRXRq"
      },
      "source": [
        "## 1. 基本的な計算"
      ]
    },
    {
      "cell_type": "markdown",
      "metadata": {
        "id": "018HwNnkRXRq"
      },
      "source": [
        "$2^{16}-1$を計算せよ．"
      ]
    },
    {
      "cell_type": "code",
      "metadata": {
        "tags": [
          "hide"
        ],
        "id": "U50mquUHRXRq",
        "colab": {
          "base_uri": "https://localhost:8080/"
        },
        "outputId": "8e7bad2e-26b0-42dc-981b-6cb9a3167b33"
      },
      "source": [
        "2**16 -1 "
      ],
      "execution_count": 3,
      "outputs": [
        {
          "output_type": "execute_result",
          "data": {
            "text/plain": [
              "65535"
            ]
          },
          "metadata": {
            "tags": []
          },
          "execution_count": 3
        }
      ]
    },
    {
      "cell_type": "markdown",
      "metadata": {
        "id": "xaklmOEsRXRq"
      },
      "source": [
        "## 2. 変数"
      ]
    },
    {
      "cell_type": "markdown",
      "metadata": {
        "id": "ipkUUaGkRXRq"
      },
      "source": [
        "変数$x = 3, y = 4$を定義して，$x^2 + 2xy + y^2$を計算せよ．"
      ]
    },
    {
      "cell_type": "code",
      "metadata": {
        "tags": [
          "hide"
        ],
        "id": "6JImcrs4RXRq",
        "colab": {
          "base_uri": "https://localhost:8080/"
        },
        "outputId": "eb737265-1eb7-4d6e-f9af-c30ce424ec7a"
      },
      "source": [
        "x = 3; y = 4\n",
        "x**2 + 2*x*y + y**2"
      ],
      "execution_count": 4,
      "outputs": [
        {
          "output_type": "execute_result",
          "data": {
            "text/plain": [
              "49"
            ]
          },
          "metadata": {
            "tags": []
          },
          "execution_count": 4
        }
      ]
    },
    {
      "cell_type": "markdown",
      "metadata": {
        "id": "bieXSbMfRXRq"
      },
      "source": [
        "## 3. 実行制御"
      ]
    },
    {
      "cell_type": "markdown",
      "metadata": {
        "id": "eciviSDRRXRq"
      },
      "source": [
        "### 3.1) for文\n",
        "for文を使って，$s = \\displaystyle \\prod_{i=1}^{8} 2$を計算せよ．また，この計算結果と同じ結果を得ることができる演算をプログラムで説明せよ．"
      ]
    },
    {
      "cell_type": "code",
      "metadata": {
        "id": "xbaGEIkORXRq",
        "colab": {
          "base_uri": "https://localhost:8080/"
        },
        "outputId": "930e2aad-0439-448f-8a8f-f659e26bbfbf"
      },
      "source": [
        "s = 1\n",
        "for i in range(1,9):\n",
        "  s = s * 2\n",
        "print(s)"
      ],
      "execution_count": 5,
      "outputs": [
        {
          "output_type": "stream",
          "text": [
            "256\n"
          ],
          "name": "stdout"
        }
      ]
    },
    {
      "cell_type": "code",
      "metadata": {
        "id": "0Dg2SsnBRXRr",
        "colab": {
          "base_uri": "https://localhost:8080/"
        },
        "outputId": "b87d4c90-029d-4d2b-d7b8-beb4ae8cea9a"
      },
      "source": [
        "2**8"
      ],
      "execution_count": 6,
      "outputs": [
        {
          "output_type": "execute_result",
          "data": {
            "text/plain": [
              "256"
            ]
          },
          "metadata": {
            "tags": []
          },
          "execution_count": 6
        }
      ]
    },
    {
      "cell_type": "code",
      "metadata": {
        "tags": [
          "hide"
        ],
        "id": "uLi-idkuRXRr"
      },
      "source": [
        ""
      ],
      "execution_count": 6,
      "outputs": []
    },
    {
      "cell_type": "markdown",
      "metadata": {
        "id": "H6gtTCWLRXRr"
      },
      "source": [
        "### 3.2) if文"
      ]
    },
    {
      "cell_type": "markdown",
      "metadata": {
        "id": "kJ3cAampRXRr"
      },
      "source": [
        "$1$から$40$までの小さい順の整数に関して，$3$の倍数と$3$が付く整数には`aho`と表示し，$5$の倍数には`wan`と表示し，この2つの条件を満たす整数には`aho wan`と表示し，それ以外の整数にはその値を表示するプログラムを記述せよ．以下に出力の例を示す．\n",
        "\n",
        "```\n",
        "1 2 aho 4 wan aho 7 8 aho wan 11 aho aho 14 aho wan 16 17 aho 19 wan aho 22 aho aho wan 26 aho 28 29 aho wan aho aho aho aho aho wan aho aho aho aho wan\n",
        "```"
      ]
    },
    {
      "cell_type": "code",
      "metadata": {
        "tags": [
          "hide"
        ],
        "id": "Q0P27QZmRXRr",
        "colab": {
          "base_uri": "https://localhost:8080/"
        },
        "outputId": "d43f9d78-23dd-4a63-edf9-ace11b43da72"
      },
      "source": [
        "result = []\n",
        "for i in range(1,41):\n",
        "  if i%15 == 0:\n",
        "    result.append('aho wan')\n",
        "  elif (i%3==0) or (str(3) in str(i)):\n",
        "    result.append('aho')\n",
        "  elif i%5 == 0:\n",
        "    result.append('wan')\n",
        "  else:\n",
        "    result.append(str(i))\n",
        "print(' '.join(result))"
      ],
      "execution_count": 7,
      "outputs": [
        {
          "output_type": "stream",
          "text": [
            "1 2 aho 4 wan aho 7 8 aho wan 11 aho aho 14 aho wan 16 17 aho 19 wan aho 22 aho aho wan 26 aho 28 29 aho wan aho aho aho aho aho aho aho aho aho wan\n"
          ],
          "name": "stdout"
        }
      ]
    },
    {
      "cell_type": "markdown",
      "metadata": {
        "id": "BJhyngmORXRr"
      },
      "source": [
        "### 3.3) while文"
      ]
    },
    {
      "cell_type": "markdown",
      "metadata": {
        "id": "3P2RJiHdRXRs"
      },
      "source": [
        "[二分法](https://ja.wikipedia.org/wiki/%E4%BA%8C%E5%88%86%E6%B3%95)を使い，$f(x) = x^2 - 2 = 0$の解を$|f(x)| < 10^{-8}$の精度で求めるプログラムを記述せよ．"
      ]
    },
    {
      "cell_type": "code",
      "metadata": {
        "tags": [
          "hide"
        ],
        "id": "HkB8vvSTRXRs",
        "colab": {
          "base_uri": "https://localhost:8080/"
        },
        "outputId": "0799c42e-b2bf-40bc-8be0-a211fac0b4d7"
      },
      "source": [
        "def f(x):\n",
        "  return x**2-2\n",
        "\n",
        "lower = 1\n",
        "upper = 2\n",
        "middle = (lower+upper)/2.\n",
        "while abs(f(middle))>=1e-8:\n",
        "  if f(lower)*f(middle)<0:\n",
        "    upper = middle\n",
        "  else:\n",
        "    lower = middle\n",
        "  middle = (lower+upper)/2.\n",
        "print('解 = ',middle)"
      ],
      "execution_count": 8,
      "outputs": [
        {
          "output_type": "stream",
          "text": [
            "解 =  1.4142135605216026\n"
          ],
          "name": "stdout"
        }
      ]
    },
    {
      "cell_type": "markdown",
      "metadata": {
        "id": "4ZfoildzRXRs"
      },
      "source": [
        "## 4. 関数"
      ]
    },
    {
      "cell_type": "markdown",
      "metadata": {
        "id": "m_YmlaRuRXRs"
      },
      "source": [
        "### 4.1) 関数の定義\n",
        "\n",
        "2つの引数$x$と$y$を受け取り，$x^2 + y^2$を戻り値とするsquare関数を定義し，$x = 3, y = 4$を引数としてsquare関数を呼び出せ．"
      ]
    },
    {
      "cell_type": "code",
      "metadata": {
        "tags": [
          "hide"
        ],
        "id": "GKvqHn-7RXRs",
        "colab": {
          "base_uri": "https://localhost:8080/"
        },
        "outputId": "40f91b71-ff21-4c3a-ddfb-d225b5e10d36"
      },
      "source": [
        "def square(x,y):\n",
        "  return x**2+y**2\n",
        "\n",
        "square(3,4)"
      ],
      "execution_count": 9,
      "outputs": [
        {
          "output_type": "execute_result",
          "data": {
            "text/plain": [
              "25"
            ]
          },
          "metadata": {
            "tags": []
          },
          "execution_count": 9
        }
      ]
    },
    {
      "cell_type": "markdown",
      "metadata": {
        "id": "R_To71zTRXRs"
      },
      "source": [
        "### 4.2) 再帰関数\n",
        "\n",
        "$x$と$y$を非負整数とする．以下の漸化式を再帰関数で実装し，$c_{8,6}$の値を求めよ．\n",
        "$$\n",
        "c_{x,y} = \\begin{cases}\n",
        "1 & (x = 0 \\vee y = 0) \\\\\n",
        "c_{x-1,y} + c_{x,y-1} & (\\mbox{それ以外のとき}) \\\\\n",
        "\\end{cases}\n",
        "$$"
      ]
    },
    {
      "cell_type": "code",
      "metadata": {
        "tags": [
          "hide"
        ],
        "id": "64ozFn8oRXRs",
        "colab": {
          "base_uri": "https://localhost:8080/"
        },
        "outputId": "984b2028-321a-4538-ae7d-79d37f86ca67"
      },
      "source": [
        "def c(x,y):\n",
        "  if (x==0) or (y==0):\n",
        "    return 1\n",
        "  else:\n",
        "    return c(x-1,y)+c(x,y-1)\n",
        "c(8,6)"
      ],
      "execution_count": 10,
      "outputs": [
        {
          "output_type": "execute_result",
          "data": {
            "text/plain": [
              "3003"
            ]
          },
          "metadata": {
            "tags": []
          },
          "execution_count": 10
        }
      ]
    },
    {
      "cell_type": "markdown",
      "metadata": {
        "id": "vjhkkrYSRXRs"
      },
      "source": [
        "### 4.3) 関数オブジェクト\n",
        "\n",
        "方程式$f(x)=0$の解を[二分法](https://ja.wikipedia.org/wiki/%E4%BA%8C%E5%88%86%E6%B3%95)で求める関数bisectionを実装せよ．ただし，\n",
        "\n",
        "+ 第1引数（`func`）は値$x$を引数に受け取り，関数の値$f(x)$を戻り値とする関数オブジェクト\n",
        "+ 第2引数（`a`）は二分法を行う範囲の下限\n",
        "+ 第3引数（`b`）は二分法を行う範囲の上限\n",
        "\n",
        "とせよ．また，このbisection関数を用い，$f(x) = x^2 - 2 = 0$の解を求めよ．"
      ]
    },
    {
      "cell_type": "code",
      "metadata": {
        "tags": [
          "hide"
        ],
        "id": "SotwZz9GRXRs",
        "colab": {
          "base_uri": "https://localhost:8080/"
        },
        "outputId": "e6a66297-49c6-4f97-e219-73257e59e33b"
      },
      "source": [
        "def bisection(func,a,b):\n",
        "  if func(a)*func(b)>0:\n",
        "    print(\"f(a)とf(b)の符号が反対となるa,bを入力してください\")\n",
        "    return \n",
        "  if a > b:\n",
        "    tmp = b\n",
        "    b = a\n",
        "    a = tmp\n",
        "  m = (a+b)/2.\n",
        "  while abs(func(m))>=1e-8:\n",
        "    if func(a)*func(m)<0:\n",
        "      b = m\n",
        "    else:\n",
        "      a = m\n",
        "    m = (a+b)/2.\n",
        "  return m\n",
        "\n",
        "print(bisection(lambda x:x**2-2,1,2))"
      ],
      "execution_count": 11,
      "outputs": [
        {
          "output_type": "stream",
          "text": [
            "1.4142135605216026\n"
          ],
          "name": "stdout"
        }
      ]
    },
    {
      "cell_type": "markdown",
      "metadata": {
        "id": "XtmwlPKbRXRs"
      },
      "source": [
        "## 5. リスト"
      ]
    },
    {
      "cell_type": "markdown",
      "metadata": {
        "id": "BEcl-3lKRXRs"
      },
      "source": [
        "### 5.1) リストへの要素の追加\n",
        "\n",
        "$A$を$1$以上$20$以下の$2$の倍数を小さい順に並べたリスト，$B$を$1$以上$20$以下の$3$の倍数を小さい順に並べたリストとする．$A$と$B$の両方に含まれる要素を取り出し，空のリスト$C$に追加せよ．ただし，このプログラムではリスト以外のデータ構造（辞書や集合など）を用いないこととせよ．"
      ]
    },
    {
      "cell_type": "code",
      "metadata": {
        "tags": [
          "hide"
        ],
        "id": "qxYMF0cvRXRs",
        "colab": {
          "base_uri": "https://localhost:8080/"
        },
        "outputId": "f40fa1c0-af86-4110-952d-5db1d080bfa2"
      },
      "source": [
        "A = [i for i in range(1,21) if i%2==0]\n",
        "B = [i for i in range(1,21) if i%3==0]\n",
        "C = []\n",
        "for a in A:\n",
        "  if a in B:\n",
        "    C.append(a)\n",
        "print(A)\n",
        "print(B)\n",
        "print(C)\n",
        "# 別解） \n",
        "C_other = [i for i in A if i in B]\n",
        "print(C_other)"
      ],
      "execution_count": 12,
      "outputs": [
        {
          "output_type": "stream",
          "text": [
            "[2, 4, 6, 8, 10, 12, 14, 16, 18, 20]\n",
            "[3, 6, 9, 12, 15, 18]\n",
            "[6, 12, 18]\n",
            "[6, 12, 18]\n"
          ],
          "name": "stdout"
        }
      ]
    },
    {
      "cell_type": "markdown",
      "metadata": {
        "id": "8hkWUInVRXRs"
      },
      "source": [
        "### 5.2) リストの作成\n",
        "$n = (0, 1, \\dots, 16)$に対して$2^n$の値を並べたリストを作成せよ．"
      ]
    },
    {
      "cell_type": "code",
      "metadata": {
        "tags": [
          "hide"
        ],
        "id": "ljGY4dQ_RXRs",
        "colab": {
          "base_uri": "https://localhost:8080/"
        },
        "outputId": "872f19a4-6dc9-499d-e801-e2a0a1582d34"
      },
      "source": [
        "L = [2**n for n in range(0,17)]\n",
        "print(L)"
      ],
      "execution_count": 13,
      "outputs": [
        {
          "output_type": "stream",
          "text": [
            "[1, 2, 4, 8, 16, 32, 64, 128, 256, 512, 1024, 2048, 4096, 8192, 16384, 32768, 65536]\n"
          ],
          "name": "stdout"
        }
      ]
    },
    {
      "cell_type": "markdown",
      "metadata": {
        "id": "BHI8hjX8RXRs"
      },
      "source": [
        "### 5.3) 2次元配列\n",
        "\n",
        "$x$と$y$を非負整数とする．以下の漸化式を[動的計画法](https://ja.wikipedia.org/wiki/%E5%8B%95%E7%9A%84%E8%A8%88%E7%94%BB%E6%B3%95)で実装し，$c_{8,6}$の値を求めよ．\n",
        "$$\n",
        "c_{x,y} = \\begin{cases}\n",
        "1 & (x = 0 \\vee y = 0) \\\\\n",
        "c_{x-1,y} + c_{x,y-1} & (\\mbox{それ以外のとき}) \\\\\n",
        "\\end{cases}\n",
        "$$"
      ]
    },
    {
      "cell_type": "code",
      "metadata": {
        "tags": [
          "hide"
        ],
        "id": "dng6wrLfRXRs",
        "colab": {
          "base_uri": "https://localhost:8080/"
        },
        "outputId": "d5873518-65ea-4aee-fcc4-3eb006c6f4c0"
      },
      "source": [
        "def c_dynamic(x,y):\n",
        "  c = [[1 for i in range(y+1)] for j in range(x+1)]\n",
        "  for i in range(1,x+1):\n",
        "    for j in range(1,y+1):\n",
        "      c[i][j] = c[i-1][j]+c[i][j-1]\n",
        "  return c[x][y]\n",
        "\n",
        "c_dynamic(8,6)"
      ],
      "execution_count": 14,
      "outputs": [
        {
          "output_type": "execute_result",
          "data": {
            "text/plain": [
              "3003"
            ]
          },
          "metadata": {
            "tags": []
          },
          "execution_count": 14
        }
      ]
    },
    {
      "cell_type": "markdown",
      "metadata": {
        "id": "wCkYbZyTRXRs"
      },
      "source": [
        "## 6. 文字列"
      ]
    },
    {
      "cell_type": "markdown",
      "metadata": {
        "id": "79B-tcbTRXRs"
      },
      "source": [
        "### 6.1) 「サスンリダッルパ」\n",
        "\n",
        "「サスンリダッルパ」という文字列を定義し，その文字列の1,3,5,7文字目を取り出して連結した文字列を得よ．"
      ]
    },
    {
      "cell_type": "code",
      "metadata": {
        "tags": [
          "hide"
        ],
        "id": "JKnYvSRTRXRs",
        "colab": {
          "base_uri": "https://localhost:8080/"
        },
        "outputId": "2581fa73-69b3-4512-fd9f-a777fd86f981"
      },
      "source": [
        "source = \"サスンリダッルパ\"\n",
        "result = ''.join([source[i] for i in [1,3,5,7]])\n",
        "print(result)"
      ],
      "execution_count": 15,
      "outputs": [
        {
          "output_type": "stream",
          "text": [
            "スリッパ\n"
          ],
          "name": "stdout"
        }
      ]
    },
    {
      "cell_type": "markdown",
      "metadata": {
        "id": "R_TNXJ7IRXRs"
      },
      "source": [
        "### 6.2) 「サンダル」＋「スリッパ」＝「サスンリダッルパ」\n",
        "\n",
        "「サンダル」＋「スリッパ」の文字を先頭から交互に連結して文字列「サスンリダッルパ」を得よ．"
      ]
    },
    {
      "cell_type": "code",
      "metadata": {
        "tags": [
          "hide"
        ],
        "id": "KEN6JWxZRXRs",
        "colab": {
          "base_uri": "https://localhost:8080/"
        },
        "outputId": "1d08378f-9759-4ef9-a0fc-aa9cfd9f49b2"
      },
      "source": [
        "s_1 = \"サンダル\"\n",
        "s_2 = \"スリッパ\"\n",
        "s12 = \"\".join([s_1[i]+s_2[i] for i in range(len(s_1))])\n",
        "print(s12)"
      ],
      "execution_count": 16,
      "outputs": [
        {
          "output_type": "stream",
          "text": [
            "サスンリダッルパ\n"
          ],
          "name": "stdout"
        }
      ]
    },
    {
      "cell_type": "markdown",
      "metadata": {
        "id": "L0Os0fEXRXRs"
      },
      "source": [
        "### 6.3) フォーマット文字列\n",
        "\n",
        "身長 (m) を変数`h`で表し，体重 (kg) を変数`w`で表すこととする．体重を身長の二乗で割ったBMI値を求め，身長と体重，BMIの値を「身長=###.#cm, 体重=##.#kg, BMI=##.##」というフォーマットの文字列に変換せよ．ただし，#は数字を表しており，身長と体重は小数点以下1位まで，BMIは小数点以下2位までの表示とせよ．たとえば，`h=1.8`, `w=80`のときは「身長=180.0cm, 体重=80.0kg, BMI=24.69」という文字列を作成したい．"
      ]
    },
    {
      "cell_type": "code",
      "metadata": {
        "tags": [
          "hide"
        ],
        "id": "xPNtbfspRXRs",
        "colab": {
          "base_uri": "https://localhost:8080/"
        },
        "outputId": "78b3373b-ec20-4db7-eb75-86dc72e1601b"
      },
      "source": [
        "def showBMI(h,w):\n",
        "  bmi = w/h**2\n",
        "  print(\"身長=%3.1fcm,体重=%2.1fkg,BMI=%2.2f\"%(h*100,w,bmi))\n",
        "\n",
        "showBMI(1.8,80)"
      ],
      "execution_count": 17,
      "outputs": [
        {
          "output_type": "stream",
          "text": [
            "身長=180.0cm,体重=80.0kg,BMI=24.69\n"
          ],
          "name": "stdout"
        }
      ]
    },
    {
      "cell_type": "markdown",
      "metadata": {
        "id": "NA_pMJQ_RXRs"
      },
      "source": [
        "### 6.4) 文字列の分割\n",
        "\n",
        "\"Now I need a drink, alcoholic of course, after the heavy lectures involving quantum mechanics.\"という文を単語に分解し，各単語の（アルファベットの）文字数を先頭から出現順に並べたリストを作成せよ．"
      ]
    },
    {
      "cell_type": "code",
      "metadata": {
        "tags": [
          "hide"
        ],
        "id": "pF2XwJycRXRs",
        "colab": {
          "base_uri": "https://localhost:8080/"
        },
        "outputId": "eb45a6d6-70f1-4e61-c47c-87509d6b7b80"
      },
      "source": [
        "sentence = \"Now I need a drink, alcoholic of course, after the heavy lectures involving quantum mechanics\"\n",
        "words = sorted(sentence.split(),key=lambda x:len(x))\n",
        "print(words)"
      ],
      "execution_count": 18,
      "outputs": [
        {
          "output_type": "stream",
          "text": [
            "['I', 'a', 'of', 'Now', 'the', 'need', 'after', 'heavy', 'drink,', 'course,', 'quantum', 'lectures', 'alcoholic', 'involving', 'mechanics']\n"
          ],
          "name": "stdout"
        }
      ]
    },
    {
      "cell_type": "markdown",
      "metadata": {
        "id": "-a_5b-ktRXRs"
      },
      "source": [
        "### 6.5) Typoglycemia\n",
        "\n",
        "スペースで区切られた単語列に対して，各単語の先頭と末尾の文字は残し，それ以外の文字の順序をランダムに並び替えるプログラムを作成せよ．ただし，長さが４以下の単語は並び替えないこととする．適当な英語の文（例えば\"I couldn’t believe that I could actually understand what I was reading : the phenomenal power of the human mind .\"）を与え，その実行結果を確認せよ．"
      ]
    },
    {
      "cell_type": "code",
      "metadata": {
        "tags": [
          "hide"
        ],
        "id": "KCO4U1KdRXRs",
        "colab": {
          "base_uri": "https://localhost:8080/"
        },
        "outputId": "48e5b3b8-836d-464b-8eb3-69bc74104b04"
      },
      "source": [
        "import random\n",
        "\n",
        "def typoglycemia(sequence):\n",
        "  words = sequence.split()\n",
        "  outputs = []\n",
        "  for word in words:\n",
        "    if len(word)<=4:\n",
        "      outputs.append(word)\n",
        "    else:\n",
        "      w_in = list(word[1:len(word)-1])\n",
        "      random.shuffle(w_in)\n",
        "      w_in.insert(0,word[0])\n",
        "      w_in.append(word[-1])\n",
        "      outputs.append(''.join(w_in))\n",
        "  return ' '.join(outputs)\n",
        "\n",
        "text = \"I couldn’t believe that I could actually understand what I was reading : the phenomenal power of the human mind.\"\n",
        "print(typoglycemia(text))"
      ],
      "execution_count": 21,
      "outputs": [
        {
          "output_type": "stream",
          "text": [
            "I co’lnudt beevile that I culod aaulltcy uradstnend what I was rnieadg : the peamonhenl pweor of the hamun midn.\n"
          ],
          "name": "stdout"
        }
      ]
    },
    {
      "cell_type": "markdown",
      "metadata": {
        "id": "juWN26_fRXRs"
      },
      "source": [
        "## 7. 辞書\n",
        "\n",
        "### 7-1) 出現頻度\n",
        "\"neko no ko koneko, shishi no ko kojishi.\"という文字列から全ての文字（空白や記号を含む）の出現回数を計測せよ．"
      ]
    },
    {
      "cell_type": "code",
      "metadata": {
        "tags": [
          "hide"
        ],
        "id": "_vIUracMRXRs",
        "colab": {
          "base_uri": "https://localhost:8080/"
        },
        "outputId": "6a8a034a-5f97-4d7b-cd14-7b781157c6f0"
      },
      "source": [
        "s = \"neko no ko koneko, shishi no ko kojishi.\"\n",
        "alpha = dict()\n",
        "for a in list(s):\n",
        "  if a not in alpha:\n",
        "    alpha[a] = 1\n",
        "  else:\n",
        "    alpha[a]+=1\n",
        "print(alpha)"
      ],
      "execution_count": 22,
      "outputs": [
        {
          "output_type": "stream",
          "text": [
            "{'n': 4, 'e': 2, 'k': 6, 'o': 8, ' ': 7, ',': 1, 's': 3, 'h': 3, 'i': 4, 'j': 1, '.': 1}\n"
          ],
          "name": "stdout"
        }
      ]
    },
    {
      "cell_type": "code",
      "metadata": {
        "tags": [
          "hide"
        ],
        "id": "AiBjE5FSRXRs"
      },
      "source": [
        ""
      ],
      "execution_count": 22,
      "outputs": []
    },
    {
      "cell_type": "markdown",
      "metadata": {
        "id": "X8Q0vmN7RXRs"
      },
      "source": [
        "### 7-2) ユニークなID番号への変換\n",
        "\"neko no ko koneko, shishi no ko kojishi.\"という文字列からスペース区切りで単語列（記号は単語から除去する）を取り出し，各単語をユニークなID番号の列に変換せよ．このとき，単語をID番号に変換するための辞書と，文字列をID番号列に変換した結果の両方を出力せよ．"
      ]
    },
    {
      "cell_type": "code",
      "metadata": {
        "tags": [
          "hide"
        ],
        "id": "yg8yXJMnRXRs",
        "colab": {
          "base_uri": "https://localhost:8080/"
        },
        "outputId": "1d04416e-a679-43bc-8124-e80f94da72c2"
      },
      "source": [
        "text = \"neko no ko koneko, shishi no ko kojishi.\"\n",
        "text=text.replace(\".\",\"\")\n",
        "text=text.replace(\",\",\"\")\n",
        "vocab = dict()\n",
        "id_s = []\n",
        "\n",
        "for w in text.split():\n",
        "  if w not in vocab:\n",
        "    vocab[w]=len(vocab)\n",
        "  id_s.append(vocab[w])\n",
        "\n",
        "print(text)\n",
        "print(id_s)  "
      ],
      "execution_count": 23,
      "outputs": [
        {
          "output_type": "stream",
          "text": [
            "neko no ko koneko shishi no ko kojishi\n",
            "[0, 1, 2, 3, 4, 1, 2, 5]\n"
          ],
          "name": "stdout"
        }
      ]
    },
    {
      "cell_type": "code",
      "metadata": {
        "tags": [
          "hide"
        ],
        "id": "aJq7EkV5RXRs"
      },
      "source": [
        ""
      ],
      "execution_count": 23,
      "outputs": []
    },
    {
      "cell_type": "code",
      "metadata": {
        "tags": [
          "hide"
        ],
        "id": "uvL2b0s-RXRs"
      },
      "source": [
        ""
      ],
      "execution_count": 23,
      "outputs": []
    },
    {
      "cell_type": "markdown",
      "metadata": {
        "id": "TdXYPjfkRXRs"
      },
      "source": [
        "## 8. ファイルの入出力"
      ]
    },
    {
      "cell_type": "markdown",
      "metadata": {
        "id": "GCbyvW3RRXRs"
      },
      "source": [
        "### 8.1) ファイルのダウンロード\n",
        "\n",
        "東京都が公開している[新型コロナウイルス陽性患者のCSVファイル](https://stopcovid19.metro.tokyo.lg.jp/data/130001_tokyo_covid19_patients.csv)をダウンロードせよ．"
      ]
    },
    {
      "cell_type": "code",
      "metadata": {
        "tags": [
          "hide"
        ],
        "id": "1h9cywwwRXRs",
        "colab": {
          "base_uri": "https://localhost:8080/"
        },
        "outputId": "4a804a0d-d33f-455a-86b4-31c5b644d9c1"
      },
      "source": [
        "!wget -O tokyo_covid19.csv https://stopcovid19.metro.tokyo.lg.jp/data/130001_tokyo_covid19_patients.csv "
      ],
      "execution_count": 24,
      "outputs": [
        {
          "output_type": "stream",
          "text": [
            "--2020-12-05 00:47:34--  https://stopcovid19.metro.tokyo.lg.jp/data/130001_tokyo_covid19_patients.csv\n",
            "Resolving stopcovid19.metro.tokyo.lg.jp (stopcovid19.metro.tokyo.lg.jp)... 162.243.166.170, 159.65.216.232, 2604:a880:400:d1::89c:7001, ...\n",
            "Connecting to stopcovid19.metro.tokyo.lg.jp (stopcovid19.metro.tokyo.lg.jp)|162.243.166.170|:443... connected.\n",
            "HTTP request sent, awaiting response... 200 OK\n",
            "Length: 3155054 (3.0M) [text/csv]\n",
            "Saving to: ‘tokyo_covid19.csv’\n",
            "\n",
            "tokyo_covid19.csv   100%[===================>]   3.01M  3.11MB/s    in 1.0s    \n",
            "\n",
            "2020-12-05 00:47:35 (3.11 MB/s) - ‘tokyo_covid19.csv’ saved [3155054/3155054]\n",
            "\n"
          ],
          "name": "stdout"
        }
      ]
    },
    {
      "cell_type": "markdown",
      "metadata": {
        "id": "QIObpuJwRXRs"
      },
      "source": [
        "### 8.2) CSVファイルの読み込み \n",
        "\n",
        "ダウンロードしたCSVファイルを読み込み，\"患者_年代\"列で示される年代別の感染者の総数を求めよ．"
      ]
    },
    {
      "cell_type": "code",
      "metadata": {
        "tags": [
          "hide"
        ],
        "id": "nloE1JMMRXRs"
      },
      "source": [
        "import csv\n",
        "\n",
        "r = {}\n",
        "with open('tokyo_covid19.csv','r') as fi:\n",
        "  reader = csv.reader(fi)\n",
        "  for row in reader:\n",
        "    r[row[0]] = row[1:]"
      ],
      "execution_count": 40,
      "outputs": []
    },
    {
      "cell_type": "code",
      "metadata": {
        "colab": {
          "base_uri": "https://localhost:8080/"
        },
        "id": "EW35gxJ5ZPWp",
        "outputId": "afc8b856-8b41-4cfe-c637-aa1074c51ae8"
      },
      "source": [
        "field = r['\\ufeffNo'].index('患者_年代')\n",
        "ages=dict()\n",
        "idx = 0\n",
        "for x in r:\n",
        "  if idx==0:\n",
        "    idx+=1\n",
        "    continue\n",
        "  else:\n",
        "    t = r[x][field]\n",
        "    if t not in ages:\n",
        "      ages[t]=1\n",
        "    else:\n",
        "      ages[t]+=1\n",
        "    idx+=1\n",
        "\n",
        "ages"
      ],
      "execution_count": 59,
      "outputs": [
        {
          "output_type": "execute_result",
          "data": {
            "text/plain": [
              "{'-': 2,\n",
              " '100歳以上': 12,\n",
              " '10代': 1744,\n",
              " '10歳未満': 837,\n",
              " '20代': 12508,\n",
              " '30代': 8914,\n",
              " '40代': 6520,\n",
              " '50代': 5156,\n",
              " '60代': 2876,\n",
              " '70代': 2298,\n",
              " '80代': 1432,\n",
              " '90代': 488,\n",
              " '不明': 6}"
            ]
          },
          "metadata": {
            "tags": []
          },
          "execution_count": 59
        }
      ]
    },
    {
      "cell_type": "markdown",
      "metadata": {
        "id": "EzTZAslYRXRs"
      },
      "source": [
        "### 8.3) CSVファイルの書き込み（難易度：高）\n",
        "\n",
        "ダウンロードしたCSVファイルを読み込み，公表年月日ごとに各年代の感染者数を求め，CSVファイルに保存せよ．なお，余力があればデータが欠損している日付は感染者数が0人として埋めよ．作成されると期待されるファイルの冒頭部分を以下に示す．\n",
        "\n",
        "```\n",
        "公表年月日,10歳未満,10代,20代,30代,40代,50代,60代,70代,80代,90代,100歳以上,不明,-,合計\n",
        "2020-01-24,0,0,0,0,1,0,0,0,0,0,0,0,0,1\n",
        "2020-01-25,0,0,0,1,0,0,0,0,0,0,0,0,0,1\n",
        "2020-01-26,0,0,0,0,0,0,0,0,0,0,0,0,0,0\n",
        "2020-01-27,0,0,0,0,0,0,0,0,0,0,0,0,0,0\n",
        "2020-01-28,0,0,0,0,0,0,0,0,0,0,0,0,0,0\n",
        "2020-01-29,0,0,0,0,0,0,0,0,0,0,0,0,0,0\n",
        "2020-01-30,0,0,0,1,0,0,0,0,0,0,0,0,0,1\n",
        "```\n",
        "\n",
        "2020年12月2日現在で作成したファイルを[tokyo-covid.csv](tokyo-covid.csv)として保存してあるので，実行結果の確認用に用いるとよい．"
      ]
    },
    {
      "cell_type": "code",
      "metadata": {
        "tags": [
          "hide"
        ],
        "id": "1aGMe7ypRXRs"
      },
      "source": [
        ""
      ],
      "execution_count": null,
      "outputs": []
    },
    {
      "cell_type": "code",
      "metadata": {
        "tags": [
          "hide"
        ],
        "id": "g7F9roceRXRs"
      },
      "source": [
        ""
      ],
      "execution_count": null,
      "outputs": []
    },
    {
      "cell_type": "markdown",
      "metadata": {
        "id": "4u0tJAawRXRs"
      },
      "source": [
        "## 9. NumPy"
      ]
    },
    {
      "cell_type": "markdown",
      "metadata": {
        "id": "r2QKjvgyRXRs"
      },
      "source": [
        "### 9-1) ベクトルの作成\n",
        "\n",
        "$n = 1, 2, 3, 4, 5$に対して，$1 / n^2$の値を数列として並べよ．"
      ]
    },
    {
      "cell_type": "code",
      "metadata": {
        "tags": [
          "hide"
        ],
        "id": "a0BuctCFRXRs",
        "colab": {
          "base_uri": "https://localhost:8080/"
        },
        "outputId": "435d4582-8f7c-45da-b436-1488d82a6006"
      },
      "source": [
        "import numpy as np\n",
        "v = np.array([1/n**2 for n in range(1,6)])\n",
        "print(v)"
      ],
      "execution_count": 61,
      "outputs": [
        {
          "output_type": "stream",
          "text": [
            "[1.         0.25       0.11111111 0.0625     0.04      ]\n"
          ],
          "name": "stdout"
        }
      ]
    },
    {
      "cell_type": "markdown",
      "metadata": {
        "id": "QlWPYFkMRXRs"
      },
      "source": [
        "### 9-2) ベクトルの和"
      ]
    },
    {
      "cell_type": "markdown",
      "metadata": {
        "id": "EyMQkvVtRXRs"
      },
      "source": [
        "$\\sqrt{6 \\displaystyle \\sum_{n = 1}^{10000} \\frac{1}{n^2}}$を計算せよ（[バーゼル問題](https://ja.wikipedia.org/wiki/%E3%83%90%E3%83%BC%E3%82%BC%E3%83%AB%E5%95%8F%E9%A1%8C)）．"
      ]
    },
    {
      "cell_type": "code",
      "metadata": {
        "tags": [
          "hide"
        ],
        "id": "NB6HdF_9RXRs",
        "colab": {
          "base_uri": "https://localhost:8080/"
        },
        "outputId": "59e6ad05-12af-4893-d4fd-d0b84d8c0b00"
      },
      "source": [
        "np.sqrt(6*np.sum(np.array([1/n**2 for n in range(1,10000)])))"
      ],
      "execution_count": 62,
      "outputs": [
        {
          "output_type": "execute_result",
          "data": {
            "text/plain": [
              "3.141497154397623"
            ]
          },
          "metadata": {
            "tags": []
          },
          "execution_count": 62
        }
      ]
    },
    {
      "cell_type": "markdown",
      "metadata": {
        "id": "yqjAY85tRXRs"
      },
      "source": [
        "### 9-3) コサイン類似度"
      ]
    },
    {
      "cell_type": "markdown",
      "metadata": {
        "id": "Zbjaj1JqRXRs"
      },
      "source": [
        "2つの位置ベクトル $\\boldsymbol{u} = \\left(\\begin{array}{c}1 & 1 & 1\\end{array}\\right), \\boldsymbol{v} = \\left(\\begin{array}{c}1 & 2 & 3\\end{array}\\right)$ のなす角を$\\theta$とする．$\\cos \\theta$の値を求めよ．"
      ]
    },
    {
      "cell_type": "code",
      "metadata": {
        "tags": [
          "hide"
        ],
        "id": "dG1BkgLVRXRs",
        "colab": {
          "base_uri": "https://localhost:8080/"
        },
        "outputId": "198588ee-a446-4673-acb6-bfb7f54d4966"
      },
      "source": [
        "def cos_theta(u,v):\n",
        "  return (np.dot(u,v)/(np.sum(u**2)*np.sum(v**2)))\n",
        "\n",
        "u = np.array([1,1,1])\n",
        "v = np.array([1,2,3])\n",
        "cos_theta(u,v)"
      ],
      "execution_count": 63,
      "outputs": [
        {
          "output_type": "execute_result",
          "data": {
            "text/plain": [
              "0.14285714285714285"
            ]
          },
          "metadata": {
            "tags": []
          },
          "execution_count": 63
        }
      ]
    },
    {
      "cell_type": "markdown",
      "metadata": {
        "id": "C-FDfX3cRXRs"
      },
      "source": [
        "### 9-4) ベクトルと行列の積\n",
        "\n",
        "$X = \\left(\\begin{array}{c}\n",
        "0 & 0 & 1  \\\\\n",
        "0 & 1 & 1 \\\\\n",
        "1 & 0 & 1 \\\\\n",
        "1 & 1 & 1 \\\\\n",
        "\\end{array}\\right),\n",
        "\\boldsymbol{w} = \\left(\\begin{array}{c}\n",
        "1 & 1 & -1.5\n",
        "\\end{array}\\right)^\\top$\n",
        "に対して，$\\max(X\\boldsymbol{w}, \\boldsymbol{0})$を計算せよ．ただし，$\\max$は複数のベクトルを引数にとり，各要素ごとの最大値を返すものとする．"
      ]
    },
    {
      "cell_type": "code",
      "metadata": {
        "colab": {
          "base_uri": "https://localhost:8080/"
        },
        "id": "_XDEkJizeyrl",
        "outputId": "36820dc6-846f-4090-89ec-0cac24e3d964"
      },
      "source": [
        "u = np.array([-1,3,2,-4,5,2])\n",
        "v = np.array([2,3,-4,12,2,-1])\n",
        "uv=np.concatenate((u,v),axis=0).reshape(len(u),2)\n",
        "print(uv)\n",
        "np.max(uv,axis=1)"
      ],
      "execution_count": 76,
      "outputs": [
        {
          "output_type": "stream",
          "text": [
            "[[-1  3]\n",
            " [ 2 -4]\n",
            " [ 5  2]\n",
            " [ 2  3]\n",
            " [-4 12]\n",
            " [ 2 -1]]\n"
          ],
          "name": "stdout"
        },
        {
          "output_type": "execute_result",
          "data": {
            "text/plain": [
              "array([ 3,  2,  5,  3, 12,  2])"
            ]
          },
          "metadata": {
            "tags": []
          },
          "execution_count": 76
        }
      ]
    },
    {
      "cell_type": "code",
      "metadata": {
        "tags": [
          "hide"
        ],
        "id": "FpULBJvdRXRs",
        "colab": {
          "base_uri": "https://localhost:8080/"
        },
        "outputId": "4f953855-978f-487e-a6f3-a643fc3c3ce4"
      },
      "source": [
        "def max(u,v):\n",
        "  uv=np.concatenate((u,v),axis=0)\n",
        "  uv=uv.reshape(2,len(u)).T\n",
        "  return np.max(uv,axis=1)\n",
        "\n",
        "X = np.array([[0,0,1],[0,1,1],[1,0,1],[1,1,1]])\n",
        "w = np.array([1,1,-1.5])\n",
        "Xw = np.dot(X,w)\n",
        "print(Xw)\n",
        "print(np.zeros(len(Xw)))\n",
        "max(Xw,np.zeros(len(Xw)))"
      ],
      "execution_count": 86,
      "outputs": [
        {
          "output_type": "stream",
          "text": [
            "[-1.5 -0.5 -0.5  0.5]\n",
            "[0. 0. 0. 0.]\n"
          ],
          "name": "stdout"
        },
        {
          "output_type": "execute_result",
          "data": {
            "text/plain": [
              "array([0. , 0. , 0. , 0.5])"
            ]
          },
          "metadata": {
            "tags": []
          },
          "execution_count": 86
        }
      ]
    },
    {
      "cell_type": "markdown",
      "metadata": {
        "id": "QXGSpzDfRXRs"
      },
      "source": [
        "### 9-5) 行列の多項式（2007年京大文系入試問題）\n",
        "\n",
        "$A = \\left(\\begin{array}{c}\n",
        "2 & 4 \\\\\n",
        "-1 & -1 \\\\\n",
        "\\end{array}\\right),\n",
        "E = \\left(\\begin{array}{c}\n",
        "1 & 0 \\\\\n",
        "0 & 1 \\\\\n",
        "\\end{array}\\right)$とするとき，$A^6 + 2A^4 + 2A^3 + 2A^2 + 2A + 3E$を求めよ．"
      ]
    },
    {
      "cell_type": "code",
      "metadata": {
        "colab": {
          "base_uri": "https://localhost:8080/"
        },
        "id": "nhzOqYw5ib0r",
        "outputId": "0fae5bb7-3b82-40a8-de6d-7f0a653e0496"
      },
      "source": [
        "np.array([A])"
      ],
      "execution_count": 90,
      "outputs": [
        {
          "output_type": "execute_result",
          "data": {
            "text/plain": [
              "array([[[ 2,  4],\n",
              "        [-1, -1]]])"
            ]
          },
          "metadata": {
            "tags": []
          },
          "execution_count": 90
        }
      ]
    },
    {
      "cell_type": "code",
      "metadata": {
        "tags": [
          "hide"
        ],
        "id": "n7zmowWLRXRs",
        "colab": {
          "base_uri": "https://localhost:8080/"
        },
        "outputId": "910a7cbb-4463-44f6-ba7c-54646c965469"
      },
      "source": [
        "A = np.array([[2,4],[-1,-1]])\n",
        "E = np.eye(2)\n",
        "print(\"固有多項式を使った結果\")\n",
        "R = A+E\n",
        "print(R)\n",
        "\n",
        "print(\"普通の行列の多項式の計算：\")\n",
        "k = [1,0,2,2,2,2]\n",
        "An = np.zeros((6,2,2))\n",
        "#print(\"init\")\n",
        "#print(An)\n",
        "An[0]=A\n",
        "for i in range(1,6):\n",
        "  An[i]=(np.dot(An[i-1],A))\n",
        "RR = np.zeros_like(A)\n",
        "for idx,i in enumerate(k):\n",
        "  RR = RR + i*An[5-idx]\n",
        "RR = RR + 3*E\n",
        "print(RR)"
      ],
      "execution_count": 102,
      "outputs": [
        {
          "output_type": "stream",
          "text": [
            "固有多項式を使った結果\n",
            "[[ 3.  4.]\n",
            " [-1.  0.]]\n",
            "普通の行列の多項式の計算：\n",
            "[[ 3.  4.]\n",
            " [-1.  0.]]\n"
          ],
          "name": "stdout"
        }
      ]
    },
    {
      "cell_type": "markdown",
      "metadata": {
        "id": "DuEk4LjSRXRs"
      },
      "source": [
        "## 10. グラフ"
      ]
    },
    {
      "cell_type": "markdown",
      "metadata": {
        "id": "7dKHzvw3RXRs"
      },
      "source": [
        "### 10-1) プロット\n",
        "\n",
        "(1) $\\displaystyle \\lim_{x \\to +0} x^x$を解析的に求め，その計算過程をMarkdownセルにLaTeX形式で記述せよ．"
      ]
    },
    {
      "cell_type": "markdown",
      "metadata": {
        "tags": [
          "hide"
        ],
        "id": "aKuyU9CrRXRs"
      },
      "source": [
        "$\\displaystyle \\lim_{x \\to +0} x^x$\n",
        "\n",
        "$y=x^x$とおくと、$\\ln{y}=x\\ln{x}$\n",
        "\n",
        "$\\displaystyle \\lim_{x \\to +0} x\\ln{x}$\n",
        "\n",
        "=$\\displaystyle \\lim_{x \\to +0} \\frac{\\ln{x}}{1/x}$\n",
        "\n",
        "=$\\displaystyle \\lim_{x \\to +0} \\frac{1/x}{-1/x^2}=0$\n",
        "\n",
        "よって、$x\\to +0$　のとき、$\\ln{y}\\to 0$　より　$y\\to 1$\n",
        "\n",
        "したがって、$\\displaystyle \\lim_{x \\to +0} x^x=1$"
      ]
    },
    {
      "cell_type": "markdown",
      "metadata": {
        "id": "LHOXpiHaRXRs"
      },
      "source": [
        "(2) $0 < x \\leq 1$の範囲で関数$f(x) = x^x$のグラフを描き，$\\displaystyle \\lim_{x \\to +0} x^x$を図示せよ．ただし，横軸は対数目盛とせよ．"
      ]
    },
    {
      "cell_type": "code",
      "metadata": {
        "tags": [
          "hide"
        ],
        "id": "R3-3rwxcRXRs",
        "colab": {
          "base_uri": "https://localhost:8080/",
          "height": 270
        },
        "outputId": "d8130726-7f12-48b3-bece-58cf425670dc"
      },
      "source": [
        "X = np.logspace(-7,0,100)\n",
        "Y = X**X\n",
        "import matplotlib.pyplot as plt\n",
        "plt.plot(X,Y)\n",
        "plt.xscale(\"log\")\n",
        "plt.show()"
      ],
      "execution_count": 113,
      "outputs": [
        {
          "output_type": "display_data",
          "data": {
            "image/png": "[encoded data removed]",
            "text/plain": [
              "<Figure size 432x288 with 1 Axes>"
            ]
          },
          "metadata": {
            "tags": [],
            "needs_background": "light"
          }
        }
      ]
    },
    {
      "cell_type": "markdown",
      "metadata": {
        "id": "P7ZkPOZARXRs"
      },
      "source": [
        "(3) $\\displaystyle \\lim_{x \\to +0} \\left(e^{-1/x^2}\\right)^x$を解析的に求め，その計算過程をMarkdownセルにLaTeX形式で記述せよ．"
      ]
    },
    {
      "cell_type": "markdown",
      "metadata": {
        "tags": [
          "hide"
        ],
        "id": "aWYg3_SHRXRs"
      },
      "source": [
        "$\\displaystyle \\lim_{x \\to +0} \\left(e^{-1/x^2}\\right)^x = \\displaystyle \\lim_{x \\to +0} e^{-1/x}=\\displaystyle \\lim_{x \\to +0} \\frac{1}{e^{1/x}}$\n",
        "\n",
        "$y=\\frac{1}{x}$ とおくと、$x\\to +0 , y\\to \\infty$\n",
        "\n",
        "$\\displaystyle \\lim_{y \\to \\infty} \\frac{1}{e^{y}}=0$　であるから、\n",
        "\n",
        "$\\displaystyle \\lim_{x \\to +0} \\left(e^{-1/x^2}\\right)^x = 0$\n",
        "\n",
        "となる。"
      ]
    },
    {
      "cell_type": "markdown",
      "metadata": {
        "id": "YAaYB7ByRXRs"
      },
      "source": [
        "(4) $0 < x \\leq 1$の範囲で関数$f(x) = \\left(e^{-1/x^2}\\right)^x$のグラフを描き，$\\displaystyle \\lim_{x \\to +0} \\left(e^{-1/x^2}\\right)^x$を図示せよ．ただし，横軸は対数目盛とせよ．"
      ]
    },
    {
      "cell_type": "code",
      "metadata": {
        "tags": [
          "hide"
        ],
        "id": "uZ3VqL7dRXRs",
        "colab": {
          "base_uri": "https://localhost:8080/",
          "height": 270
        },
        "outputId": "428da3b0-4fb9-4c2d-d288-863a97e74992"
      },
      "source": [
        "X = np.logspace(-5,0,100)\n",
        "Y = np.e**(-1/X)\n",
        "import matplotlib.pyplot as plt\n",
        "plt.plot(X,Y)\n",
        "plt.xscale(\"log\")\n",
        "plt.show()"
      ],
      "execution_count": 116,
      "outputs": [
        {
          "output_type": "display_data",
          "data": {
            "image/png": "[encoded data removed]",
            "text/plain": [
              "<Figure size 432x288 with 1 Axes>"
            ]
          },
          "metadata": {
            "tags": [],
            "needs_background": "light"
          }
        }
      ]
    },
    {
      "cell_type": "markdown",
      "metadata": {
        "id": "pLPf2wuRRXRt"
      },
      "source": [
        "### 10-2) グラフ"
      ]
    },
    {
      "cell_type": "code",
      "metadata": {
        "id": "XQfpcFAOTh4e"
      },
      "source": [
        "!wget http://www.chokkan.org/lectures/2020ml/tokyo-covid.csv"
      ],
      "execution_count": null,
      "outputs": []
    },
    {
      "cell_type": "markdown",
      "metadata": {
        "id": "5HKFiaI0RXRt"
      },
      "source": [
        "(1) 東京都のCOVID-19新規感染者報告数をCSV形式にまとめた[tokyo-covid.csv](tokyo-covid.csv)を読み込み，横軸を公表年月日，縦軸を感染者数として，年代別の感染者数の推移を折れ線グラフで表示せよ．"
      ]
    },
    {
      "cell_type": "code",
      "metadata": {
        "tags": [
          "hide"
        ],
        "id": "cfJtlAmbRXRt"
      },
      "source": [
        ""
      ],
      "execution_count": null,
      "outputs": []
    },
    {
      "cell_type": "code",
      "metadata": {
        "tags": [
          "hide"
        ],
        "id": "AWyruIpYRXRt"
      },
      "source": [
        ""
      ],
      "execution_count": null,
      "outputs": []
    },
    {
      "cell_type": "markdown",
      "metadata": {
        "id": "O3KhySGjRXRt"
      },
      "source": [
        "(2) 東京都のCOVID-19新規感染者報告数をCSV形式にまとめた[tokyo-covid.csv](tokyo-covid.csv)を読み込み，横軸を公表年月日，縦軸を感染者数として，１日の感染者数を棒グラフで示せ．"
      ]
    },
    {
      "cell_type": "code",
      "metadata": {
        "tags": [
          "hide"
        ],
        "id": "sGArs7MNRXRt"
      },
      "source": [
        ""
      ],
      "execution_count": null,
      "outputs": []
    },
    {
      "cell_type": "markdown",
      "metadata": {
        "id": "DAus1MWTRXRt"
      },
      "source": [
        "(2) 東京都のCOVID-19新規感染者報告数をCSV形式にまとめた[tokyo-covid.csv](tokyo-covid.csv)を読み込み，横軸を公表年月日，縦軸を感染者数として，１日の感染者数を折れ線グラフで示せ．このとき，7日間後方移動平均と14日間後方移動平均も折れ線グラフで示せ．"
      ]
    },
    {
      "cell_type": "code",
      "metadata": {
        "tags": [
          "hide"
        ],
        "id": "J6djr139RXRt"
      },
      "source": [
        ""
      ],
      "execution_count": null,
      "outputs": []
    }
  ]
}
